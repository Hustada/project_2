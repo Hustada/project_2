{
 "cells": [
  {
   "cell_type": "markdown",
   "metadata": {
    "collapsed": true,
    "deletable": true,
    "editable": true
   },
   "source": [
    "# Image Classification\n",
    "In this project, you'll classify images from the [CIFAR-10 dataset](https://www.cs.toronto.edu/~kriz/cifar.html).  The dataset consists of airplanes, dogs, cats, and other objects. You'll preprocess the images, then train a convolutional neural network on all the samples. The images need to be normalized and the labels need to be one-hot encoded.  You'll get to apply what you learned and build a convolutional, max pooling, dropout, and fully connected layers.  At the end, you'll get to see your neural network's predictions on the sample images.\n",
    "## Get the Data\n",
    "Run the following cell to download the [CIFAR-10 dataset for python](https://www.cs.toronto.edu/~kriz/cifar-10-python.tar.gz)."
   ]
  },
  {
   "cell_type": "code",
   "execution_count": 3,
   "metadata": {
    "collapsed": false,
    "deletable": true,
    "editable": true
   },
   "outputs": [
    {
     "name": "stdout",
     "output_type": "stream",
     "text": [
      "All files found!\n"
     ]
    }
   ],
   "source": [
    "\"\"\"\n",
    "DON'T MODIFY ANYTHING IN THIS CELL THAT IS BELOW THIS LINE\n",
    "\"\"\"\n",
    "from urllib.request import urlretrieve\n",
    "from os.path import isfile, isdir\n",
    "from tqdm import tqdm\n",
    "import problem_unittests as tests\n",
    "import tarfile\n",
    "\n",
    "cifar10_dataset_folder_path = 'cifar-10-batches-py'\n",
    "\n",
    "class DLProgress(tqdm):\n",
    "    last_block = 0\n",
    "\n",
    "    def hook(self, block_num=1, block_size=1, total_size=None):\n",
    "        self.total = total_size\n",
    "        self.update((block_num - self.last_block) * block_size)\n",
    "        self.last_block = block_num\n",
    "\n",
    "if not isfile('cifar-10-python.tar.gz'):\n",
    "    with DLProgress(unit='B', unit_scale=True, miniters=1, desc='CIFAR-10 Dataset') as pbar:\n",
    "        urlretrieve(\n",
    "            'https://www.cs.toronto.edu/~kriz/cifar-10-python.tar.gz',\n",
    "            'cifar-10-python.tar.gz',\n",
    "            pbar.hook)\n",
    "\n",
    "if not isdir(cifar10_dataset_folder_path):\n",
    "    with tarfile.open('cifar-10-python.tar.gz') as tar:\n",
    "        tar.extractall()\n",
    "        tar.close()\n",
    "\n",
    "\n",
    "tests.test_folder_path(cifar10_dataset_folder_path)"
   ]
  },
  {
   "cell_type": "markdown",
   "metadata": {
    "deletable": true,
    "editable": true
   },
   "source": [
    "## Explore the Data\n",
    "The dataset is broken into batches to prevent your machine from running out of memory.  The CIFAR-10 dataset consists of 5 batches, named `data_batch_1`, `data_batch_2`, etc.. Each batch contains the labels and images that are one of the following:\n",
    "* airplane\n",
    "* automobile\n",
    "* bird\n",
    "* cat\n",
    "* deer\n",
    "* dog\n",
    "* frog\n",
    "* horse\n",
    "* ship\n",
    "* truck\n",
    "\n",
    "Understanding a dataset is part of making predictions on the data.  Play around with the code cell below by changing the `batch_id` and `sample_id`. The `batch_id` is the id for a batch (1-5). The `sample_id` is the id for a image and label pair in the batch.\n",
    "\n",
    "Ask yourself \"What are all possible labels?\", \"What is the range of values for the image data?\", \"Are the labels in order or random?\".  Answers to questions like these will help you preprocess the data and end up with better predictions."
   ]
  },
  {
   "cell_type": "code",
   "execution_count": 4,
   "metadata": {
    "collapsed": false,
    "deletable": true,
    "editable": true
   },
   "outputs": [
    {
     "name": "stdout",
     "output_type": "stream",
     "text": [
      "\n",
      "Stats of batch 5:\n",
      "Samples: 10000\n",
      "Label Counts: {0: 1014, 1: 1014, 2: 952, 3: 1016, 4: 997, 5: 1025, 6: 980, 7: 977, 8: 1003, 9: 1022}\n",
      "First 20 Labels: [1, 8, 5, 1, 5, 7, 4, 3, 8, 2, 7, 2, 0, 1, 5, 9, 6, 2, 0, 8]\n",
      "\n",
      "Example of Image 5:\n",
      "Image - Min Value: 1 Max Value: 255\n",
      "Image - Shape: (32, 32, 3)\n",
      "Label - Label Id: 7 Name: horse\n"
     ]
    },
    {
     "data": {
      "image/png": "[encoded data removed]",
      "text/plain": [
       "<matplotlib.figure.Figure at 0x7f2afb758ac8>"
      ]
     },
     "metadata": {
      "image/png": {
       "height": 250,
       "width": 253
      }
     },
     "output_type": "display_data"
    }
   ],
   "source": [
    "%matplotlib inline\n",
    "%config InlineBackend.figure_format = 'retina'\n",
    "\n",
    "import helper\n",
    "import numpy as np\n",
    "\n",
    "# Explore the dataset\n",
    "batch_id = 5\n",
    "sample_id = 5\n",
    "helper.display_stats(cifar10_dataset_folder_path, batch_id, sample_id)"
   ]
  },
  {
   "cell_type": "markdown",
   "metadata": {
    "deletable": true,
    "editable": true
   },
   "source": [
    "## Implement Preprocess Functions\n",
    "### Normalize\n",
    "In the cell below, implement the `normalize` function to take in image data, `x`, and return it as a normalized Numpy array. The values should be in the range of 0 to 1, inclusive.  The return object should be the same shape as `x`."
   ]
  },
  {
   "cell_type": "code",
   "execution_count": 5,
   "metadata": {
    "collapsed": false,
    "deletable": true,
    "editable": true
   },
   "outputs": [
    {
     "name": "stdout",
     "output_type": "stream",
     "text": [
      "Tests Passed\n"
     ]
    }
   ],
   "source": [
    "def normalize(x):\n",
    "    \"\"\"\n",
    "    Normalize a list of sample image data in the range of 0 to 1\n",
    "    : x: List of image data.  The image shape is (32, 32, 3)\n",
    "    : return: Numpy array of normalize data\n",
    "    \"\"\"\n",
    "    # TODO: Implement Function\n",
    "    \n",
    "    return np.array((x)/(255))\n",
    "    print(normalize)\n",
    "\n",
    "\n",
    "\"\"\"\n",
    "DON'T MODIFY ANYTHING IN THIS CELL THAT IS BELOW THIS LINE\n",
    "\"\"\"\n",
    "tests.test_normalize(normalize)"
   ]
  },
  {
   "cell_type": "markdown",
   "metadata": {
    "deletable": true,
    "editable": true
   },
   "source": [
    "### One-hot encode\n",
    "Just like the previous code cell, you'll be implementing a function for preprocessing.  This time, you'll implement the `one_hot_encode` function. The input, `x`, are a list of labels.  Implement the function to return the list of labels as One-Hot encoded Numpy array.  The possible values for labels are 0 to 9. The one-hot encoding function should return the same encoding for each value between each call to `one_hot_encode`.  Make sure to save the map of encodings outside the function.\n",
    "\n",
    "Hint: Don't reinvent the wheel."
   ]
  },
  {
   "cell_type": "code",
   "execution_count": 6,
   "metadata": {
    "collapsed": false,
    "deletable": true,
    "editable": true
   },
   "outputs": [
    {
     "name": "stdout",
     "output_type": "stream",
     "text": [
      "Tests Passed\n"
     ]
    }
   ],
   "source": [
    "def one_hot_encode(x):\n",
    "    \"\"\"\n",
    "    One hot encode a list of sample labels. Return a one-hot encoded vector for each label.\n",
    "    : x: List of sample Labels\n",
    "    : return: Numpy array of one-hot encoded labels\n",
    "    \"\"\"\n",
    "    # TODO: Implement Function\n",
    "    return np.eye(10)[x]\n",
    "\n",
    "\"\"\"\n",
    "DON'T MODIFY ANYTHING IN THIS CELL THAT IS BELOW THIS LINE\n",
    "\"\"\"\n",
    "tests.test_one_hot_encode(one_hot_encode)"
   ]
  },
  {
   "cell_type": "markdown",
   "metadata": {
    "deletable": true,
    "editable": true
   },
   "source": [
    "### Randomize Data\n",
    "As you saw from exploring the data above, the order of the samples are randomized.  It doesn't hurt to randomize it again, but you don't need to for this dataset."
   ]
  },
  {
   "cell_type": "markdown",
   "metadata": {
    "deletable": true,
    "editable": true
   },
   "source": [
    "## Preprocess all the data and save it\n",
    "Running the code cell below will preprocess all the CIFAR-10 data and save it to file. The code below also uses 10% of the training data for validation."
   ]
  },
  {
   "cell_type": "code",
   "execution_count": 7,
   "metadata": {
    "collapsed": false,
    "deletable": true,
    "editable": true
   },
   "outputs": [],
   "source": [
    "\"\"\"\n",
    "DON'T MODIFY ANYTHING IN THIS CELL\n",
    "\"\"\"\n",
    "# Preprocess Training, Validation, and Testing Data\n",
    "helper.preprocess_and_save_data(cifar10_dataset_folder_path, normalize, one_hot_encode)"
   ]
  },
  {
   "cell_type": "markdown",
   "metadata": {
    "deletable": true,
    "editable": true
   },
   "source": [
    "# Check Point\n",
    "This is your first checkpoint.  If you ever decide to come back to this notebook or have to restart the notebook, you can start from here.  The preprocessed data has been saved to disk."
   ]
  },
  {
   "cell_type": "code",
   "execution_count": 8,
   "metadata": {
    "collapsed": true,
    "deletable": true,
    "editable": true
   },
   "outputs": [],
   "source": [
    "\"\"\"\n",
    "DON'T MODIFY ANYTHING IN THIS CELL\n",
    "\"\"\"\n",
    "import pickle\n",
    "import problem_unittests as tests\n",
    "import helper\n",
    "\n",
    "# Load the Preprocessed Validation data\n",
    "valid_features, valid_labels = pickle.load(open('preprocess_validation.p', mode='rb'))"
   ]
  },
  {
   "cell_type": "markdown",
   "metadata": {
    "deletable": true,
    "editable": true
   },
   "source": [
    "## Build the network\n",
    "For the neural network, you'll build each layer into a function.  Most of the code you've seen has been outside of functions. To test your code more thoroughly, we require that you put each layer in a function.  This allows us to give you better feedback and test for simple mistakes using our unittests before you submit your project.\n",
    "\n",
    ">**Note:** If you're finding it hard to dedicate enough time for this course each week, we've provided a small shortcut to this part of the project. In the next couple of problems, you'll have the option to use classes from the [TensorFlow Layers](https://www.tensorflow.org/api_docs/python/tf/layers) or [TensorFlow Layers (contrib)](https://www.tensorflow.org/api_guides/python/contrib.layers) packages to build each layer, except the layers you build in the \"Convolutional and Max Pooling Layer\" section.  TF Layers is similar to Keras's and TFLearn's abstraction to layers, so it's easy to pickup.\n",
    "\n",
    ">However, if you would like to get the most out of this course, try to solve all the problems _without_ using anything from the TF Layers packages. You **can** still use classes from other packages that happen to have the same name as ones you find in TF Layers! For example, instead of using the TF Layers version of the `conv2d` class, [tf.layers.conv2d](https://www.tensorflow.org/api_docs/python/tf/layers/conv2d), you would want to use the TF Neural Network version of `conv2d`, [tf.nn.conv2d](https://www.tensorflow.org/api_docs/python/tf/nn/conv2d). \n",
    "\n",
    "Let's begin!\n",
    "\n",
    "### Input\n",
    "The neural network needs to read the image data, one-hot encoded labels, and dropout keep probability. Implement the following functions\n",
    "* Implement `neural_net_image_input`\n",
    " * Return a [TF Placeholder](https://www.tensorflow.org/api_docs/python/tf/placeholder)\n",
    " * Set the shape using `image_shape` with batch size set to `None`.\n",
    " * Name the TensorFlow placeholder \"x\" using the TensorFlow `name` parameter in the [TF Placeholder](https://www.tensorflow.org/api_docs/python/tf/placeholder).\n",
    "* Implement `neural_net_label_input`\n",
    " * Return a [TF Placeholder](https://www.tensorflow.org/api_docs/python/tf/placeholder)\n",
    " * Set the shape using `n_classes` with batch size set to `None`.\n",
    " * Name the TensorFlow placeholder \"y\" using the TensorFlow `name` parameter in the [TF Placeholder](https://www.tensorflow.org/api_docs/python/tf/placeholder).\n",
    "* Implement `neural_net_keep_prob_input`\n",
    " * Return a [TF Placeholder](https://www.tensorflow.org/api_docs/python/tf/placeholder) for dropout keep probability.\n",
    " * Name the TensorFlow placeholder \"keep_prob\" using the TensorFlow `name` parameter in the [TF Placeholder](https://www.tensorflow.org/api_docs/python/tf/placeholder).\n",
    "\n",
    "These names will be used at the end of the project to load your saved model.\n",
    "\n",
    "Note: `None` for shapes in TensorFlow allow for a dynamic size."
   ]
  },
  {
   "cell_type": "code",
   "execution_count": 9,
   "metadata": {
    "collapsed": false,
    "deletable": true,
    "editable": true
   },
   "outputs": [
    {
     "name": "stdout",
     "output_type": "stream",
     "text": [
      "Image Input Tests Passed.\n",
      "Label Input Tests Passed.\n",
      "Keep Prob Tests Passed.\n"
     ]
    }
   ],
   "source": [
    "import tensorflow as tf\n",
    "\n",
    "def neural_net_image_input(image_shape):\n",
    "    \"\"\"\n",
    "    Return a Tensor for a bach of image input\n",
    "    : image_shape: Shape of the images\n",
    "    : return: Tensor for image input.\n",
    "    \"\"\"\n",
    "    # TODO: Implement Function\n",
    "    \n",
    "    return tf.placeholder(tf.float32, [None, image_shape[0], image_shape[1], image_shape[2]], name = 'x')\n",
    "\n",
    "\n",
    "def neural_net_label_input(n_classes):\n",
    "    \"\"\"\n",
    "    Return a Tensor for a batch of label input\n",
    "    : n_classes: Number of classes\n",
    "    : return: Tensor for label input.\n",
    "    \"\"\"\n",
    "    # TODO: Implement Function\n",
    "    return tf.placeholder(tf.float32, [None, n_classes], name = 'y')\n",
    "\n",
    "def neural_net_keep_prob_input():\n",
    "    \"\"\"\n",
    "    Return a Tensor for keep probability\n",
    "    : return: Tensor for keep probability.\n",
    "    \"\"\"\n",
    "    # TODO: Implement Function\n",
    "    \n",
    "    return tf.placeholder(tf.float32, name = 'keep_prob')\n",
    "\n",
    "\n",
    "\"\"\"\n",
    "DON'T MODIFY ANYTHING IN THIS CELL THAT IS BELOW THIS LINE\n",
    "\"\"\"\n",
    "tf.reset_default_graph()\n",
    "tests.test_nn_image_inputs(neural_net_image_input)\n",
    "tests.test_nn_label_inputs(neural_net_label_input)\n",
    "tests.test_nn_keep_prob_inputs(neural_net_keep_prob_input)"
   ]
  },
  {
   "cell_type": "markdown",
   "metadata": {
    "deletable": true,
    "editable": true
   },
   "source": [
    "### Convolution and Max Pooling Layer\n",
    "Convolution layers have a lot of success with images. For this code cell, you should implement the function `conv2d_maxpool` to apply convolution then max pooling:\n",
    "* Create the weight and bias using `conv_ksize`, `conv_num_outputs` and the shape of `x_tensor`.\n",
    "* Apply a convolution to `x_tensor` using weight and `conv_strides`.\n",
    " * We recommend you use same padding, but you're welcome to use any padding.\n",
    "* Add bias\n",
    "* Add a nonlinear activation to the convolution.\n",
    "* Apply Max Pooling using `pool_ksize` and `pool_strides`.\n",
    " * We recommend you use same padding, but you're welcome to use any padding.\n",
    "\n",
    "**Note:** You **can't** use [TensorFlow Layers](https://www.tensorflow.org/api_docs/python/tf/layers) or [TensorFlow Layers (contrib)](https://www.tensorflow.org/api_guides/python/contrib.layers) for **this** layer, but you can still use TensorFlow's [Neural Network](https://www.tensorflow.org/api_docs/python/tf/nn) package. You may still use the shortcut option for all the **other** layers."
   ]
  },
  {
   "cell_type": "code",
   "execution_count": 10,
   "metadata": {
    "collapsed": false,
    "deletable": true,
    "editable": true
   },
   "outputs": [
    {
     "name": "stdout",
     "output_type": "stream",
     "text": [
      "(2, 2)\n",
      "Tensor(\"Placeholder:0\", shape=(?, 32, 32, 5), dtype=float32)\n",
      "10\n",
      "Tests Passed\n"
     ]
    }
   ],
   "source": [
    "def conv2d_maxpool(x_tensor, conv_num_outputs, conv_ksize, conv_strides, pool_ksize, pool_strides):\n",
    "    \"\"\"\n",
    "    Apply convolution then max pooling to x_tensor\n",
    "    :param x_tensor: TensorFlow Tensor\n",
    "    :param conv_num_outputs: Number of outputs for the convolutional layer\n",
    "    :param conv_ksize: kernal size 2-D Tuple for the convolutional layer\n",
    "    :param conv_strides: Stride 2-D Tuple for convolution\n",
    "    :param pool_ksize: kernal size 2-D Tuple for pool\n",
    "    :param pool_strides: Stride 2-D Tuple for pool\n",
    "    : return: A tensor that represents convolution and max pooling of x_tensor\n",
    "    \"\"\"\n",
    "    # TODO: Implement Function\n",
    "    \n",
    "    weights = {\n",
    "    'wc1': tf.Variable(tf.truncated_normal(\n",
    "    [*conv_ksize, int(x_tensor.shape[3]), conv_num_outputs],\n",
    "    mean=0.0,\n",
    "    stddev=0.01,\n",
    "    dtype=tf.float32))}\n",
    "    \n",
    "    biases = {\n",
    "        'bc1': tf.Variable(tf.zeros([conv_num_outputs]))\n",
    "    }\n",
    "    \n",
    "    layer = tf.nn.conv2d(tf.cast(x_tensor, tf.float32),weights['wc1'],[1, conv_strides[0], conv_strides[1], 1], padding='SAME')\n",
    "    layer = tf.nn.bias_add(layer, biases['bc1'])\n",
    "    layer = tf.nn.relu(layer)\n",
    "    \n",
    "    layer = tf.nn.max_pool(layer,\n",
    "                          ksize=[1, *pool_ksize, 1],\n",
    "                          strides=[1, *pool_strides, 1],\n",
    "                          padding='SAME')\n",
    "    \n",
    "    print(conv_ksize)\n",
    "    print(x_tensor)\n",
    "    print(conv_num_outputs)\n",
    "    return layer\n",
    "\n",
    "\"\"\"\n",
    "DON'T MODIFY ANYTHING IN THIS CELL THAT IS BELOW THIS LINE\n",
    "\"\"\"\n",
    "tests.test_con_pool(conv2d_maxpool)"
   ]
  },
  {
   "cell_type": "markdown",
   "metadata": {
    "deletable": true,
    "editable": true
   },
   "source": [
    "### Flatten Layer\n",
    "Implement the `flatten` function to change the dimension of `x_tensor` from a 4-D tensor to a 2-D tensor.  The output should be the shape (*Batch Size*, *Flattened Image Size*). Shortcut option: you can use classes from the [TensorFlow Layers](https://www.tensorflow.org/api_docs/python/tf/layers) or [TensorFlow Layers (contrib)](https://www.tensorflow.org/api_guides/python/contrib.layers) packages for this layer. For more of a challenge, only use other TensorFlow packages."
   ]
  },
  {
   "cell_type": "code",
   "execution_count": 11,
   "metadata": {
    "collapsed": false,
    "deletable": true,
    "editable": true
   },
   "outputs": [
    {
     "name": "stdout",
     "output_type": "stream",
     "text": [
      "Tensor(\"Placeholder_1:0\", shape=(?, 10, 30, 6), dtype=float32)\n",
      "?\n",
      "10\n",
      "30\n",
      "6\n",
      "Tests Passed\n"
     ]
    }
   ],
   "source": [
    "def flatten(x_tensor):\n",
    "    \"\"\"\n",
    "    Flatten x_tensor to (Batch Size, Flattened Image Size)\n",
    "    : x_tensor: A tensor of size (Batch Size, ...), where ... are the image dimensions.\n",
    "    : return: A tensor of size (Batch Size, Flattened Image Size).\n",
    "    \"\"\"\n",
    "    print(x_tensor)\n",
    "    # TODO: Implement Function\n",
    "    #if input shape is [batch_size, W, H, D] then output should be [batch_size, W*H*D]. \n",
    "    #In order to achieve this you can use tf.reshape. \n",
    "    #Here [-1, W*H*D] means [first_dimension, second_dimension].\n",
    "    batch_size = x_tensor.shape[0]\n",
    "    width = x_tensor.shape[1]\n",
    "    height = x_tensor.shape[2]\n",
    "    depth = x_tensor.shape[3]\n",
    "    print(batch_size)\n",
    "    print(width)\n",
    "    print(height)\n",
    "    print(depth)\n",
    "    \n",
    "    #flat_image_size = width * height * depth\n",
    "    #print(flat_image_size)\n",
    "    #return tf.reshape(x_tensor, [-1, flat_image_size])\n",
    "    \n",
    "    #simpler working approach for now\n",
    "    return tf.contrib.layers.flatten(x_tensor)\n",
    "    \n",
    "\n",
    "\n",
    "\"\"\"\n",
    "DON'T MODIFY ANYTHING IN THIS CELL THAT IS BELOW THIS LINE\n",
    "\"\"\"\n",
    "tests.test_flatten(flatten)"
   ]
  },
  {
   "cell_type": "markdown",
   "metadata": {
    "deletable": true,
    "editable": true
   },
   "source": [
    "### Fully-Connected Layer\n",
    "Implement the `fully_conn` function to apply a fully connected layer to `x_tensor` with the shape (*Batch Size*, *num_outputs*). Shortcut option: you can use classes from the [TensorFlow Layers](https://www.tensorflow.org/api_docs/python/tf/layers) or [TensorFlow Layers (contrib)](https://www.tensorflow.org/api_guides/python/contrib.layers) packages for this layer. For more of a challenge, only use other TensorFlow packages."
   ]
  },
  {
   "cell_type": "code",
   "execution_count": 12,
   "metadata": {
    "collapsed": false,
    "deletable": true,
    "editable": true
   },
   "outputs": [
    {
     "name": "stdout",
     "output_type": "stream",
     "text": [
      "Tests Passed\n"
     ]
    }
   ],
   "source": [
    "def fully_conn(x_tensor, num_outputs):\n",
    "    \"\"\"\n",
    "    Apply a fully connected layer to x_tensor using weight and bias\n",
    "    : x_tensor: A 2-D tensor where the first dimension is batch size.\n",
    "    : num_outputs: The number of output that the new tensor should be.\n",
    "    : return: A 2-D tensor where the second dimension is num_outputs.\n",
    "    \"\"\"\n",
    "    # TODO: Implement Function\n",
    "    fully_conn_weight = tf.Variable(tf.truncated_normal([int(x_tensor.shape[-1]),num_outputs],mean=0.0,stddev = 0.05))\n",
    "    fully_conn_bias = tf.Variable(tf.zeros([num_outputs]))\n",
    "    fully_conn_layer = tf.add(tf.matmul(x_tensor, fully_conn_weight), fully_conn_bias)\n",
    "    fully_conn_layer = tf.nn.relu(fully_conn_layer)\n",
    "    return fully_conn_layer\n",
    "\n",
    "\n",
    "\"\"\"\n",
    "DON'T MODIFY ANYTHING IN THIS CELL THAT IS BELOW THIS LINE\n",
    "\"\"\"\n",
    "tests.test_fully_conn(fully_conn)"
   ]
  },
  {
   "cell_type": "markdown",
   "metadata": {
    "deletable": true,
    "editable": true
   },
   "source": [
    "### Output Layer\n",
    "Implement the `output` function to apply a fully connected layer to `x_tensor` with the shape (*Batch Size*, *num_outputs*). Shortcut option: you can use classes from the [TensorFlow Layers](https://www.tensorflow.org/api_docs/python/tf/layers) or [TensorFlow Layers (contrib)](https://www.tensorflow.org/api_guides/python/contrib.layers) packages for this layer. For more of a challenge, only use other TensorFlow packages.\n",
    "\n",
    "**Note:** Activation, softmax, or cross entropy should **not** be applied to this."
   ]
  },
  {
   "cell_type": "code",
   "execution_count": 13,
   "metadata": {
    "collapsed": false,
    "deletable": true,
    "editable": true
   },
   "outputs": [
    {
     "name": "stdout",
     "output_type": "stream",
     "text": [
      "Tests Passed\n"
     ]
    }
   ],
   "source": [
    "def output(x_tensor, num_outputs):\n",
    "    \"\"\"\n",
    "    Apply a output layer to x_tensor using weight and bias\n",
    "    : x_tensor: A 2-D tensor where the first dimension is batch size.\n",
    "    : num_outputs: The number of output that the new tensor should be.\n",
    "    : return: A 2-D tensor where the second dimension is num_outputs.\n",
    "    \"\"\"\n",
    "    # TODO: Implement Function\n",
    "    \n",
    "    output_weight = tf.Variable(tf.truncated_normal([int(x_tensor.shape[-1]), num_outputs],mean=0.0,stddev = 0.01))\n",
    "    output_bias = tf.Variable(tf.zeros([num_outputs]))\n",
    "    \n",
    "    out = tf.add(tf.matmul(x_tensor, output_weight), output_bias)\n",
    "    \n",
    "    return out\n",
    "\n",
    "\"\"\"\n",
    "DON'T MODIFY ANYTHING IN THIS CELL THAT IS BELOW THIS LINE\n",
    "\"\"\"\n",
    "tests.test_output(output)"
   ]
  },
  {
   "cell_type": "markdown",
   "metadata": {
    "deletable": true,
    "editable": true
   },
   "source": [
    "### Create Convolutional Model\n",
    "Implement the function `conv_net` to create a convolutional neural network model. The function takes in a batch of images, `x`, and outputs logits.  Use the layers you created above to create this model:\n",
    "\n",
    "* Apply 1, 2, or 3 Convolution and Max Pool layers\n",
    "* Apply a Flatten Layer\n",
    "* Apply 1, 2, or 3 Fully Connected Layers\n",
    "* Apply an Output Layer\n",
    "* Return the output\n",
    "* Apply [TensorFlow's Dropout](https://www.tensorflow.org/api_docs/python/tf/nn/dropout) to one or more layers in the model using `keep_prob`. "
   ]
  },
  {
   "cell_type": "code",
   "execution_count": 14,
   "metadata": {
    "collapsed": false,
    "deletable": true,
    "editable": true
   },
   "outputs": [
    {
     "name": "stdout",
     "output_type": "stream",
     "text": [
      "(3, 3)\n",
      "Tensor(\"x:0\", shape=(?, 32, 32, 3), dtype=float32)\n",
      "16\n",
      "(3, 3)\n",
      "Tensor(\"MaxPool:0\", shape=(?, 32, 32, 16), dtype=float32)\n",
      "16\n",
      "(3, 3)\n",
      "Tensor(\"MaxPool_1:0\", shape=(?, 32, 32, 16), dtype=float32)\n",
      "16\n",
      "Tensor(\"MaxPool_2:0\", shape=(?, 32, 32, 16), dtype=float32)\n",
      "?\n",
      "32\n",
      "32\n",
      "16\n",
      "(3, 3)\n",
      "Tensor(\"Placeholder:0\", shape=(?, 32, 32, 3), dtype=float32)\n",
      "16\n",
      "(3, 3)\n",
      "Tensor(\"MaxPool_3:0\", shape=(?, 32, 32, 16), dtype=float32)\n",
      "16\n",
      "(3, 3)\n",
      "Tensor(\"MaxPool_4:0\", shape=(?, 32, 32, 16), dtype=float32)\n",
      "16\n",
      "Tensor(\"MaxPool_5:0\", shape=(?, 32, 32, 16), dtype=float32)\n",
      "?\n",
      "32\n",
      "32\n",
      "16\n",
      "Neural Network Built!\n"
     ]
    }
   ],
   "source": [
    "def conv_net(x, keep_prob):\n",
    "    \"\"\"\n",
    "    Create a convolutional neural network model\n",
    "    : x: Placeholder tensor that holds image data.\n",
    "    : keep_prob: Placeholder tensor that hold dropout keep probability.\n",
    "    : return: Tensor that represents logits\n",
    "    \"\"\"\n",
    "    # TODO: Apply 1, 2, or 3 Convolution and Max Pool layers\n",
    "    #    Play around with different number of outputs, kernel size and stride\n",
    "    # Function Definition from Above:\n",
    "    #    conv2d_maxpool(x_tensor, conv_num_outputs, conv_ksize, conv_strides, pool_ksize, pool_strides)\n",
    "    x_tensor = x\n",
    "    conv_ksize = (3,3) \n",
    "    conv_num_outputs = 16\n",
    "    conv_strides = (1,1)\n",
    "    pool_ksize = (3,3)\n",
    "    pool_strides = (1,1)\n",
    "    num_outputs = 10\n",
    "    \n",
    "    conv = conv2d_maxpool(x_tensor, conv_num_outputs, conv_ksize,\n",
    "                        conv_strides, pool_ksize, pool_strides)\n",
    "    conv2 = conv2d_maxpool(conv, conv_num_outputs, conv_ksize, conv_strides,\n",
    "                         pool_ksize, pool_strides)\n",
    "    conv3 = conv2d_maxpool(conv2, conv_num_outputs, conv_ksize, conv_strides,\n",
    "                         pool_ksize, pool_strides)\n",
    "\n",
    "    # TODO: Apply a Flatten Layer\n",
    "    # Function Definition from Above:\n",
    "    #   flatten(x_tensor)\n",
    "    \n",
    "    flat = flatten(conv3)\n",
    "    \n",
    "\n",
    "    # TODO: Apply 1, 2, or 3 Fully Connected Layers\n",
    "    #    Play around with different number of outputs\n",
    "    # Function Definition from Above:\n",
    "    #   fully_conn(x_tensor, num_outputs)\n",
    "    \n",
    "    fully_conn1 = fully_conn(flat, 512)\n",
    "    fully_conn1 = tf.nn.dropout(fully_conn1, keep_prob)\n",
    "    fully_conn2 = fully_conn(fully_conn1, 512)\n",
    "    fully_conn2 = tf.nn.dropout(fully_conn2, keep_prob)\n",
    "    \n",
    "    \n",
    "    # TODO: Apply an Output Layer\n",
    "    #    Set this to the number of classes\n",
    "    # Function Definition from Above:\n",
    "    #   output(x_tensor, num_outputs)\n",
    "    \n",
    "    output_data = output(fully_conn1, num_outputs)\n",
    "    \n",
    "    # TODO: return output\n",
    "    return output_data\n",
    "\n",
    "\n",
    "\"\"\"\n",
    "DON'T MODIFY ANYTHING IN THIS CELL THAT IS BELOW THIS LINE\n",
    "\"\"\"\n",
    "\n",
    "##############################\n",
    "## Build the Neural Network ##\n",
    "##############################\n",
    "\n",
    "# Remove previous weights, bias, inputs, etc..\n",
    "tf.reset_default_graph()\n",
    "\n",
    "# Inputs\n",
    "x = neural_net_image_input((32, 32, 3))\n",
    "y = neural_net_label_input(10)\n",
    "keep_prob = neural_net_keep_prob_input()\n",
    "\n",
    "# Model\n",
    "logits = conv_net(x, keep_prob)\n",
    "\n",
    "# Name logits Tensor, so that is can be loaded from disk after training\n",
    "logits = tf.identity(logits, name='logits')\n",
    "\n",
    "# Loss and Optimizer\n",
    "cost = tf.reduce_mean(tf.nn.softmax_cross_entropy_with_logits(logits=logits, labels=y))\n",
    "optimizer = tf.train.AdamOptimizer().minimize(cost)\n",
    "\n",
    "# Accuracy\n",
    "correct_pred = tf.equal(tf.argmax(logits, 1), tf.argmax(y, 1))\n",
    "accuracy = tf.reduce_mean(tf.cast(correct_pred, tf.float32), name='accuracy')\n",
    "\n",
    "tests.test_conv_net(conv_net)"
   ]
  },
  {
   "cell_type": "markdown",
   "metadata": {
    "deletable": true,
    "editable": true
   },
   "source": [
    "## Train the Neural Network\n",
    "### Single Optimization\n",
    "Implement the function `train_neural_network` to do a single optimization.  The optimization should use `optimizer` to optimize in `session` with a `feed_dict` of the following:\n",
    "* `x` for image input\n",
    "* `y` for labels\n",
    "* `keep_prob` for keep probability for dropout\n",
    "\n",
    "This function will be called for each batch, so `tf.global_variables_initializer()` has already been called.\n",
    "\n",
    "Note: Nothing needs to be returned. This function is only optimizing the neural network."
   ]
  },
  {
   "cell_type": "code",
   "execution_count": 15,
   "metadata": {
    "collapsed": false,
    "deletable": true,
    "editable": true
   },
   "outputs": [
    {
     "name": "stdout",
     "output_type": "stream",
     "text": [
      "Tests Passed\n"
     ]
    }
   ],
   "source": [
    "def train_neural_network(session, optimizer, keep_probability, feature_batch, label_batch):\n",
    "    \"\"\"\n",
    "    Optimize the session on a batch of images and labels\n",
    "    : session: Current TensorFlow session\n",
    "    : optimizer: TensorFlow optimizer function\n",
    "    : keep_probability: keep probability\n",
    "    : feature_batch: Batch of Numpy image data\n",
    "    : label_batch: Batch of Numpy label data\n",
    "    \"\"\"\n",
    "    # TODO: Implement Function\n",
    "    session.run(optimizer, feed_dict={\n",
    "        x:feature_batch,\n",
    "        y:label_batch,\n",
    "        keep_prob: keep_probability\n",
    "    })\n",
    "        \n",
    "    pass\n",
    "\n",
    "\n",
    "\"\"\"\n",
    "DON'T MODIFY ANYTHING IN THIS CELL THAT IS BELOW THIS LINE\n",
    "\"\"\"\n",
    "tests.test_train_nn(train_neural_network)"
   ]
  },
  {
   "cell_type": "markdown",
   "metadata": {
    "deletable": true,
    "editable": true
   },
   "source": [
    "### Show Stats\n",
    "Implement the function `print_stats` to print loss and validation accuracy.  Use the global variables `valid_features` and `valid_labels` to calculate validation accuracy.  Use a keep probability of `1.0` to calculate the loss and validation accuracy."
   ]
  },
  {
   "cell_type": "code",
   "execution_count": 16,
   "metadata": {
    "collapsed": false,
    "deletable": true,
    "editable": true
   },
   "outputs": [],
   "source": [
    "def print_stats(session, feature_batch, label_batch, cost, accuracy):\n",
    "    \"\"\"\n",
    "    Print information about loss and validation accuracy\n",
    "    : session: Current TensorFlow session\n",
    "    : feature_batch: Batch of Numpy image data\n",
    "    : label_batch: Batch of Numpy label data\n",
    "    : cost: TensorFlow cost function\n",
    "    : accuracy: TensorFlow accuracy function\n",
    "    \"\"\"\n",
    "    # TODO: Implement Function\n",
    "    loss = session.run(cost, feed_dict={x: feature_batch, y: label_batch, keep_prob: 1.0})\n",
    "    valid_acc = session.run(accuracy, feed_dict={x: valid_features, y: valid_labels, keep_prob: 1.0})\n",
    "    print('Loss: {:>10.4f} Accuracy: {:.6f}'.format(loss,valid_acc))\n",
    "    \n",
    "    pass"
   ]
  },
  {
   "cell_type": "markdown",
   "metadata": {
    "deletable": true,
    "editable": true
   },
   "source": [
    "### Hyperparameters\n",
    "Tune the following parameters:\n",
    "* Set `epochs` to the number of iterations until the network stops learning or start overfitting\n",
    "* Set `batch_size` to the highest number that your machine has memory for.  Most people set them to common sizes of memory:\n",
    " * 64\n",
    " * 128\n",
    " * 256\n",
    " * ...\n",
    "* Set `keep_probability` to the probability of keeping a node using dropout"
   ]
  },
  {
   "cell_type": "code",
   "execution_count": 17,
   "metadata": {
    "collapsed": true,
    "deletable": true,
    "editable": true
   },
   "outputs": [],
   "source": [
    "# TODO: Tune Parameters\n",
    "epochs = 64\n",
    "batch_size = 128\n",
    "keep_probability = 0.75"
   ]
  },
  {
   "cell_type": "markdown",
   "metadata": {
    "deletable": true,
    "editable": true
   },
   "source": [
    "### Train on a Single CIFAR-10 Batch\n",
    "Instead of training the neural network on all the CIFAR-10 batches of data, let's use a single batch. This should save time while you iterate on the model to get a better accuracy.  Once the final validation accuracy is 50% or greater, run the model on all the data in the next section."
   ]
  },
  {
   "cell_type": "code",
   "execution_count": 18,
   "metadata": {
    "collapsed": false,
    "deletable": true,
    "editable": true
   },
   "outputs": [
    {
     "name": "stdout",
     "output_type": "stream",
     "text": [
      "Checking the Training on a Single Batch...\n",
      "Epoch  1, CIFAR-10 Batch 1:  Loss:     2.2360 Accuracy: 0.244800\n",
      "Epoch  2, CIFAR-10 Batch 1:  Loss:     2.1496 Accuracy: 0.291600\n",
      "Epoch  3, CIFAR-10 Batch 1:  Loss:     2.0910 Accuracy: 0.308800\n",
      "Epoch  4, CIFAR-10 Batch 1:  Loss:     2.0526 Accuracy: 0.316800\n",
      "Epoch  5, CIFAR-10 Batch 1:  Loss:     1.9990 Accuracy: 0.335800\n",
      "Epoch  6, CIFAR-10 Batch 1:  Loss:     1.9675 Accuracy: 0.342000\n",
      "Epoch  7, CIFAR-10 Batch 1:  Loss:     1.9109 Accuracy: 0.355400\n",
      "Epoch  8, CIFAR-10 Batch 1:  Loss:     1.8323 Accuracy: 0.361400\n",
      "Epoch  9, CIFAR-10 Batch 1:  Loss:     1.7545 Accuracy: 0.374800\n",
      "Epoch 10, CIFAR-10 Batch 1:  Loss:     1.7146 Accuracy: 0.382800\n",
      "Epoch 11, CIFAR-10 Batch 1:  Loss:     1.6682 Accuracy: 0.390200\n",
      "Epoch 12, CIFAR-10 Batch 1:  Loss:     1.6085 Accuracy: 0.392400\n",
      "Epoch 13, CIFAR-10 Batch 1:  Loss:     1.5630 Accuracy: 0.393000\n",
      "Epoch 14, CIFAR-10 Batch 1:  Loss:     1.4836 Accuracy: 0.400800\n",
      "Epoch 15, CIFAR-10 Batch 1:  Loss:     1.4017 Accuracy: 0.400200\n",
      "Epoch 16, CIFAR-10 Batch 1:  Loss:     1.3287 Accuracy: 0.406800\n",
      "Epoch 17, CIFAR-10 Batch 1:  Loss:     1.2679 Accuracy: 0.393800\n",
      "Epoch 18, CIFAR-10 Batch 1:  Loss:     1.2028 Accuracy: 0.404200\n",
      "Epoch 19, CIFAR-10 Batch 1:  Loss:     1.1578 Accuracy: 0.406000\n",
      "Epoch 20, CIFAR-10 Batch 1:  Loss:     1.2247 Accuracy: 0.388400\n",
      "Epoch 21, CIFAR-10 Batch 1:  Loss:     1.1265 Accuracy: 0.394800\n",
      "Epoch 22, CIFAR-10 Batch 1:  Loss:     1.1118 Accuracy: 0.386600\n",
      "Epoch 23, CIFAR-10 Batch 1:  Loss:     0.9607 Accuracy: 0.398000\n",
      "Epoch 24, CIFAR-10 Batch 1:  Loss:     0.8877 Accuracy: 0.406000\n",
      "Epoch 25, CIFAR-10 Batch 1:  Loss:     0.8120 Accuracy: 0.398200\n",
      "Epoch 26, CIFAR-10 Batch 1:  Loss:     0.8477 Accuracy: 0.391400\n",
      "Epoch 27, CIFAR-10 Batch 1:  Loss:     0.7131 Accuracy: 0.396600\n",
      "Epoch 28, CIFAR-10 Batch 1:  Loss:     0.6837 Accuracy: 0.390600\n",
      "Epoch 29, CIFAR-10 Batch 1:  Loss:     0.7183 Accuracy: 0.383600\n",
      "Epoch 30, CIFAR-10 Batch 1:  Loss:     0.5451 Accuracy: 0.389600\n",
      "Epoch 31, CIFAR-10 Batch 1:  Loss:     0.6887 Accuracy: 0.382200\n",
      "Epoch 32, CIFAR-10 Batch 1:  Loss:     0.5272 Accuracy: 0.395600\n",
      "Epoch 33, CIFAR-10 Batch 1:  Loss:     0.5289 Accuracy: 0.378200\n",
      "Epoch 34, CIFAR-10 Batch 1:  Loss:     0.4840 Accuracy: 0.381800\n",
      "Epoch 35, CIFAR-10 Batch 1:  Loss:     0.4259 Accuracy: 0.387600\n",
      "Epoch 36, CIFAR-10 Batch 1:  Loss:     0.3673 Accuracy: 0.399200\n",
      "Epoch 37, CIFAR-10 Batch 1:  Loss:     0.3698 Accuracy: 0.397200\n",
      "Epoch 38, CIFAR-10 Batch 1:  Loss:     0.3382 Accuracy: 0.387400\n",
      "Epoch 39, CIFAR-10 Batch 1:  Loss:     0.2877 Accuracy: 0.399800\n",
      "Epoch 40, CIFAR-10 Batch 1:  Loss:     0.2808 Accuracy: 0.390200\n",
      "Epoch 41, CIFAR-10 Batch 1:  Loss:     0.3249 Accuracy: 0.403200\n",
      "Epoch 42, CIFAR-10 Batch 1:  Loss:     0.3402 Accuracy: 0.389800\n",
      "Epoch 43, CIFAR-10 Batch 1:  Loss:     0.3128 Accuracy: 0.387000\n",
      "Epoch 44, CIFAR-10 Batch 1:  Loss:     0.2698 Accuracy: 0.382200\n",
      "Epoch 45, CIFAR-10 Batch 1:  Loss:     0.2325 Accuracy: 0.389800\n",
      "Epoch 46, CIFAR-10 Batch 1:  Loss:     0.2108 Accuracy: 0.397000\n",
      "Epoch 47, CIFAR-10 Batch 1:  Loss:     0.1962 Accuracy: 0.399400\n",
      "Epoch 48, CIFAR-10 Batch 1:  Loss:     0.1635 Accuracy: 0.394800\n",
      "Epoch 49, CIFAR-10 Batch 1:  Loss:     0.1673 Accuracy: 0.391200\n",
      "Epoch 50, CIFAR-10 Batch 1:  Loss:     0.1288 Accuracy: 0.392800\n",
      "Epoch 51, CIFAR-10 Batch 1:  Loss:     0.1162 Accuracy: 0.394000\n",
      "Epoch 52, CIFAR-10 Batch 1:  Loss:     0.1417 Accuracy: 0.388200\n",
      "Epoch 53, CIFAR-10 Batch 1:  Loss:     0.1219 Accuracy: 0.390600\n",
      "Epoch 54, CIFAR-10 Batch 1:  Loss:     0.1423 Accuracy: 0.382000\n",
      "Epoch 55, CIFAR-10 Batch 1:  Loss:     0.0964 Accuracy: 0.388800\n",
      "Epoch 56, CIFAR-10 Batch 1:  Loss:     0.0940 Accuracy: 0.383400\n",
      "Epoch 57, CIFAR-10 Batch 1:  Loss:     0.0855 Accuracy: 0.389600\n",
      "Epoch 58, CIFAR-10 Batch 1:  Loss:     0.0947 Accuracy: 0.384000\n",
      "Epoch 59, CIFAR-10 Batch 1:  Loss:     0.0965 Accuracy: 0.387200\n",
      "Epoch 60, CIFAR-10 Batch 1:  Loss:     0.0852 Accuracy: 0.391400\n",
      "Epoch 61, CIFAR-10 Batch 1:  Loss:     0.0812 Accuracy: 0.386600\n",
      "Epoch 62, CIFAR-10 Batch 1:  Loss:     0.0929 Accuracy: 0.386600\n",
      "Epoch 63, CIFAR-10 Batch 1:  Loss:     0.0677 Accuracy: 0.385000\n",
      "Epoch 64, CIFAR-10 Batch 1:  Loss:     0.1016 Accuracy: 0.384800\n"
     ]
    }
   ],
   "source": [
    "\"\"\"\n",
    "DON'T MODIFY ANYTHING IN THIS CELL\n",
    "\"\"\"\n",
    "print('Checking the Training on a Single Batch...')\n",
    "with tf.Session() as sess:\n",
    "    # Initializing the variables\n",
    "    sess.run(tf.global_variables_initializer())\n",
    "    \n",
    "    # Training cycle\n",
    "    for epoch in range(epochs):\n",
    "        batch_i = 1\n",
    "        for batch_features, batch_labels in helper.load_preprocess_training_batch(batch_i, batch_size):\n",
    "            train_neural_network(sess, optimizer, keep_probability, batch_features, batch_labels)\n",
    "        print('Epoch {:>2}, CIFAR-10 Batch {}:  '.format(epoch + 1, batch_i), end='')\n",
    "        print_stats(sess, batch_features, batch_labels, cost, accuracy)"
   ]
  },
  {
   "cell_type": "markdown",
   "metadata": {
    "deletable": true,
    "editable": true
   },
   "source": [
    "### Fully Train the Model\n",
    "Now that you got a good accuracy with a single CIFAR-10 batch, try it with all five batches."
   ]
  },
  {
   "cell_type": "code",
   "execution_count": 19,
   "metadata": {
    "collapsed": false,
    "deletable": true,
    "editable": true
   },
   "outputs": [
    {
     "name": "stdout",
     "output_type": "stream",
     "text": [
      "Training...\n",
      "Epoch  1, CIFAR-10 Batch 1:  Loss:     2.1926 Accuracy: 0.248200\n",
      "Epoch  1, CIFAR-10 Batch 2:  Loss:     1.8865 Accuracy: 0.299800\n",
      "Epoch  1, CIFAR-10 Batch 3:  Loss:     1.6430 Accuracy: 0.299400\n",
      "Epoch  1, CIFAR-10 Batch 4:  Loss:     1.6316 Accuracy: 0.371600\n",
      "Epoch  1, CIFAR-10 Batch 5:  Loss:     1.7061 Accuracy: 0.383400\n",
      "Epoch  2, CIFAR-10 Batch 1:  Loss:     1.9405 Accuracy: 0.413800\n",
      "Epoch  2, CIFAR-10 Batch 2:  Loss:     1.7491 Accuracy: 0.410200\n",
      "Epoch  2, CIFAR-10 Batch 3:  Loss:     1.3877 Accuracy: 0.423800\n",
      "Epoch  2, CIFAR-10 Batch 4:  Loss:     1.5166 Accuracy: 0.436800\n",
      "Epoch  2, CIFAR-10 Batch 5:  Loss:     1.6714 Accuracy: 0.427000\n",
      "Epoch  3, CIFAR-10 Batch 1:  Loss:     1.7661 Accuracy: 0.442400\n",
      "Epoch  3, CIFAR-10 Batch 2:  Loss:     1.6273 Accuracy: 0.433600\n",
      "Epoch  3, CIFAR-10 Batch 3:  Loss:     1.3000 Accuracy: 0.444400\n",
      "Epoch  3, CIFAR-10 Batch 4:  Loss:     1.4596 Accuracy: 0.447000\n",
      "Epoch  3, CIFAR-10 Batch 5:  Loss:     1.6188 Accuracy: 0.446000\n",
      "Epoch  4, CIFAR-10 Batch 1:  Loss:     1.6557 Accuracy: 0.464400\n",
      "Epoch  4, CIFAR-10 Batch 2:  Loss:     1.4996 Accuracy: 0.457000\n",
      "Epoch  4, CIFAR-10 Batch 3:  Loss:     1.2660 Accuracy: 0.465200\n",
      "Epoch  4, CIFAR-10 Batch 4:  Loss:     1.4222 Accuracy: 0.465200\n",
      "Epoch  4, CIFAR-10 Batch 5:  Loss:     1.5548 Accuracy: 0.465600\n",
      "Epoch  5, CIFAR-10 Batch 1:  Loss:     1.6026 Accuracy: 0.476400\n",
      "Epoch  5, CIFAR-10 Batch 2:  Loss:     1.4438 Accuracy: 0.467000\n",
      "Epoch  5, CIFAR-10 Batch 3:  Loss:     1.2293 Accuracy: 0.468800\n",
      "Epoch  5, CIFAR-10 Batch 4:  Loss:     1.3909 Accuracy: 0.456400\n",
      "Epoch  5, CIFAR-10 Batch 5:  Loss:     1.4824 Accuracy: 0.479600\n",
      "Epoch  6, CIFAR-10 Batch 1:  Loss:     1.5515 Accuracy: 0.481800\n",
      "Epoch  6, CIFAR-10 Batch 2:  Loss:     1.4162 Accuracy: 0.489000\n",
      "Epoch  6, CIFAR-10 Batch 3:  Loss:     1.1818 Accuracy: 0.487000\n",
      "Epoch  6, CIFAR-10 Batch 4:  Loss:     1.3546 Accuracy: 0.471200\n",
      "Epoch  6, CIFAR-10 Batch 5:  Loss:     1.4553 Accuracy: 0.482000\n",
      "Epoch  7, CIFAR-10 Batch 1:  Loss:     1.4676 Accuracy: 0.485800\n",
      "Epoch  7, CIFAR-10 Batch 2:  Loss:     1.3297 Accuracy: 0.475400\n",
      "Epoch  7, CIFAR-10 Batch 3:  Loss:     1.2126 Accuracy: 0.485600\n",
      "Epoch  7, CIFAR-10 Batch 4:  Loss:     1.3377 Accuracy: 0.477400\n",
      "Epoch  7, CIFAR-10 Batch 5:  Loss:     1.4338 Accuracy: 0.490000\n",
      "Epoch  8, CIFAR-10 Batch 1:  Loss:     1.3832 Accuracy: 0.482600\n",
      "Epoch  8, CIFAR-10 Batch 2:  Loss:     1.3627 Accuracy: 0.487400\n",
      "Epoch  8, CIFAR-10 Batch 3:  Loss:     1.1632 Accuracy: 0.492400\n",
      "Epoch  8, CIFAR-10 Batch 4:  Loss:     1.3285 Accuracy: 0.492400\n",
      "Epoch  8, CIFAR-10 Batch 5:  Loss:     1.4057 Accuracy: 0.494800\n",
      "Epoch  9, CIFAR-10 Batch 1:  Loss:     1.3928 Accuracy: 0.497800\n",
      "Epoch  9, CIFAR-10 Batch 2:  Loss:     1.3385 Accuracy: 0.494000\n",
      "Epoch  9, CIFAR-10 Batch 3:  Loss:     1.1090 Accuracy: 0.494400\n",
      "Epoch  9, CIFAR-10 Batch 4:  Loss:     1.2666 Accuracy: 0.487600\n",
      "Epoch  9, CIFAR-10 Batch 5:  Loss:     1.3419 Accuracy: 0.499200\n",
      "Epoch 10, CIFAR-10 Batch 1:  Loss:     1.3161 Accuracy: 0.495800\n",
      "Epoch 10, CIFAR-10 Batch 2:  Loss:     1.2796 Accuracy: 0.499800\n",
      "Epoch 10, CIFAR-10 Batch 3:  Loss:     1.1087 Accuracy: 0.503400\n",
      "Epoch 10, CIFAR-10 Batch 4:  Loss:     1.2554 Accuracy: 0.489600\n",
      "Epoch 10, CIFAR-10 Batch 5:  Loss:     1.2951 Accuracy: 0.500800\n",
      "Epoch 11, CIFAR-10 Batch 1:  Loss:     1.3544 Accuracy: 0.499000\n",
      "Epoch 11, CIFAR-10 Batch 2:  Loss:     1.2730 Accuracy: 0.503000\n",
      "Epoch 11, CIFAR-10 Batch 3:  Loss:     1.1110 Accuracy: 0.507600\n",
      "Epoch 11, CIFAR-10 Batch 4:  Loss:     1.2328 Accuracy: 0.492800\n",
      "Epoch 11, CIFAR-10 Batch 5:  Loss:     1.2405 Accuracy: 0.507200\n",
      "Epoch 12, CIFAR-10 Batch 1:  Loss:     1.3371 Accuracy: 0.493600\n",
      "Epoch 12, CIFAR-10 Batch 2:  Loss:     1.1959 Accuracy: 0.498000\n",
      "Epoch 12, CIFAR-10 Batch 3:  Loss:     1.0935 Accuracy: 0.510800\n",
      "Epoch 12, CIFAR-10 Batch 4:  Loss:     1.1866 Accuracy: 0.499200\n",
      "Epoch 12, CIFAR-10 Batch 5:  Loss:     1.1981 Accuracy: 0.506400\n",
      "Epoch 13, CIFAR-10 Batch 1:  Loss:     1.2671 Accuracy: 0.512000\n",
      "Epoch 13, CIFAR-10 Batch 2:  Loss:     1.1473 Accuracy: 0.504200\n",
      "Epoch 13, CIFAR-10 Batch 3:  Loss:     1.0929 Accuracy: 0.511400\n",
      "Epoch 13, CIFAR-10 Batch 4:  Loss:     1.1827 Accuracy: 0.501200\n",
      "Epoch 13, CIFAR-10 Batch 5:  Loss:     1.2178 Accuracy: 0.510400\n",
      "Epoch 14, CIFAR-10 Batch 1:  Loss:     1.2498 Accuracy: 0.506600\n",
      "Epoch 14, CIFAR-10 Batch 2:  Loss:     1.1559 Accuracy: 0.507800\n",
      "Epoch 14, CIFAR-10 Batch 3:  Loss:     1.0443 Accuracy: 0.512800\n",
      "Epoch 14, CIFAR-10 Batch 4:  Loss:     1.1001 Accuracy: 0.505800\n",
      "Epoch 14, CIFAR-10 Batch 5:  Loss:     1.1945 Accuracy: 0.510600\n",
      "Epoch 15, CIFAR-10 Batch 1:  Loss:     1.2329 Accuracy: 0.507800\n",
      "Epoch 15, CIFAR-10 Batch 2:  Loss:     1.0983 Accuracy: 0.506800\n",
      "Epoch 15, CIFAR-10 Batch 3:  Loss:     1.0326 Accuracy: 0.516200\n",
      "Epoch 15, CIFAR-10 Batch 4:  Loss:     1.1054 Accuracy: 0.515200\n",
      "Epoch 15, CIFAR-10 Batch 5:  Loss:     1.1590 Accuracy: 0.513200\n",
      "Epoch 16, CIFAR-10 Batch 1:  Loss:     1.2213 Accuracy: 0.509800\n",
      "Epoch 16, CIFAR-10 Batch 2:  Loss:     1.0818 Accuracy: 0.513400\n",
      "Epoch 16, CIFAR-10 Batch 3:  Loss:     1.0490 Accuracy: 0.515800\n",
      "Epoch 16, CIFAR-10 Batch 4:  Loss:     1.0298 Accuracy: 0.520400\n",
      "Epoch 16, CIFAR-10 Batch 5:  Loss:     1.1414 Accuracy: 0.521000\n",
      "Epoch 17, CIFAR-10 Batch 1:  Loss:     1.2214 Accuracy: 0.509200\n",
      "Epoch 17, CIFAR-10 Batch 2:  Loss:     1.1029 Accuracy: 0.524000\n",
      "Epoch 17, CIFAR-10 Batch 3:  Loss:     1.0308 Accuracy: 0.509000\n",
      "Epoch 17, CIFAR-10 Batch 4:  Loss:     1.0211 Accuracy: 0.516800\n",
      "Epoch 17, CIFAR-10 Batch 5:  Loss:     1.1278 Accuracy: 0.529400\n",
      "Epoch 18, CIFAR-10 Batch 1:  Loss:     1.1677 Accuracy: 0.524400\n",
      "Epoch 18, CIFAR-10 Batch 2:  Loss:     1.0628 Accuracy: 0.514600\n",
      "Epoch 18, CIFAR-10 Batch 3:  Loss:     0.9655 Accuracy: 0.515800\n",
      "Epoch 18, CIFAR-10 Batch 4:  Loss:     1.0082 Accuracy: 0.519400\n",
      "Epoch 18, CIFAR-10 Batch 5:  Loss:     1.0878 Accuracy: 0.528200\n",
      "Epoch 19, CIFAR-10 Batch 1:  Loss:     1.1668 Accuracy: 0.523800\n",
      "Epoch 19, CIFAR-10 Batch 2:  Loss:     1.0906 Accuracy: 0.515600\n",
      "Epoch 19, CIFAR-10 Batch 3:  Loss:     0.9618 Accuracy: 0.517400\n",
      "Epoch 19, CIFAR-10 Batch 4:  Loss:     0.9970 Accuracy: 0.527400\n",
      "Epoch 19, CIFAR-10 Batch 5:  Loss:     1.0488 Accuracy: 0.533200\n",
      "Epoch 20, CIFAR-10 Batch 1:  Loss:     1.1264 Accuracy: 0.531000\n",
      "Epoch 20, CIFAR-10 Batch 2:  Loss:     1.0534 Accuracy: 0.511800\n",
      "Epoch 20, CIFAR-10 Batch 3:  Loss:     0.9601 Accuracy: 0.517000\n",
      "Epoch 20, CIFAR-10 Batch 4:  Loss:     0.9415 Accuracy: 0.538400\n",
      "Epoch 20, CIFAR-10 Batch 5:  Loss:     1.0455 Accuracy: 0.532000\n",
      "Epoch 21, CIFAR-10 Batch 1:  Loss:     1.1475 Accuracy: 0.514200\n",
      "Epoch 21, CIFAR-10 Batch 2:  Loss:     1.0473 Accuracy: 0.526400\n",
      "Epoch 21, CIFAR-10 Batch 3:  Loss:     0.9908 Accuracy: 0.515200\n",
      "Epoch 21, CIFAR-10 Batch 4:  Loss:     0.9623 Accuracy: 0.529600\n",
      "Epoch 21, CIFAR-10 Batch 5:  Loss:     0.9682 Accuracy: 0.535600\n",
      "Epoch 22, CIFAR-10 Batch 1:  Loss:     1.1276 Accuracy: 0.526800\n",
      "Epoch 22, CIFAR-10 Batch 2:  Loss:     1.0558 Accuracy: 0.527000\n",
      "Epoch 22, CIFAR-10 Batch 3:  Loss:     0.9440 Accuracy: 0.529800\n",
      "Epoch 22, CIFAR-10 Batch 4:  Loss:     0.9475 Accuracy: 0.533600\n",
      "Epoch 22, CIFAR-10 Batch 5:  Loss:     0.9419 Accuracy: 0.535600\n",
      "Epoch 23, CIFAR-10 Batch 1:  Loss:     1.1094 Accuracy: 0.533400\n",
      "Epoch 23, CIFAR-10 Batch 2:  Loss:     0.9533 Accuracy: 0.528200\n",
      "Epoch 23, CIFAR-10 Batch 3:  Loss:     0.9386 Accuracy: 0.533400\n",
      "Epoch 23, CIFAR-10 Batch 4:  Loss:     0.8708 Accuracy: 0.540200\n",
      "Epoch 23, CIFAR-10 Batch 5:  Loss:     0.9501 Accuracy: 0.543400\n",
      "Epoch 24, CIFAR-10 Batch 1:  Loss:     1.0295 Accuracy: 0.547400\n",
      "Epoch 24, CIFAR-10 Batch 2:  Loss:     0.9578 Accuracy: 0.531000\n",
      "Epoch 24, CIFAR-10 Batch 3:  Loss:     0.9171 Accuracy: 0.538200\n",
      "Epoch 24, CIFAR-10 Batch 4:  Loss:     0.8904 Accuracy: 0.539200\n",
      "Epoch 24, CIFAR-10 Batch 5:  Loss:     0.8468 Accuracy: 0.544600\n",
      "Epoch 25, CIFAR-10 Batch 1:  Loss:     1.0020 Accuracy: 0.534600\n",
      "Epoch 25, CIFAR-10 Batch 2:  Loss:     0.9598 Accuracy: 0.537000\n",
      "Epoch 25, CIFAR-10 Batch 3:  Loss:     0.9020 Accuracy: 0.528400\n",
      "Epoch 25, CIFAR-10 Batch 4:  Loss:     0.8061 Accuracy: 0.536800\n",
      "Epoch 25, CIFAR-10 Batch 5:  Loss:     0.8523 Accuracy: 0.538600\n",
      "Epoch 26, CIFAR-10 Batch 1:  Loss:     0.9576 Accuracy: 0.544200\n",
      "Epoch 26, CIFAR-10 Batch 2:  Loss:     0.9794 Accuracy: 0.534200\n",
      "Epoch 26, CIFAR-10 Batch 3:  Loss:     0.8912 Accuracy: 0.527800\n",
      "Epoch 26, CIFAR-10 Batch 4:  Loss:     0.8163 Accuracy: 0.527800\n",
      "Epoch 26, CIFAR-10 Batch 5:  Loss:     0.8072 Accuracy: 0.542800\n",
      "Epoch 27, CIFAR-10 Batch 1:  Loss:     0.9081 Accuracy: 0.546000\n",
      "Epoch 27, CIFAR-10 Batch 2:  Loss:     0.9186 Accuracy: 0.538600\n",
      "Epoch 27, CIFAR-10 Batch 3:  Loss:     0.8738 Accuracy: 0.528400\n",
      "Epoch 27, CIFAR-10 Batch 4:  Loss:     0.7647 Accuracy: 0.539200\n",
      "Epoch 27, CIFAR-10 Batch 5:  Loss:     0.7507 Accuracy: 0.540400\n",
      "Epoch 28, CIFAR-10 Batch 1:  Loss:     0.8948 Accuracy: 0.548600\n",
      "Epoch 28, CIFAR-10 Batch 2:  Loss:     0.9085 Accuracy: 0.539000\n",
      "Epoch 28, CIFAR-10 Batch 3:  Loss:     0.8814 Accuracy: 0.533800\n",
      "Epoch 28, CIFAR-10 Batch 4:  Loss:     0.7880 Accuracy: 0.531800\n",
      "Epoch 28, CIFAR-10 Batch 5:  Loss:     0.6953 Accuracy: 0.550000\n",
      "Epoch 29, CIFAR-10 Batch 1:  Loss:     0.8444 Accuracy: 0.545400\n",
      "Epoch 29, CIFAR-10 Batch 2:  Loss:     0.8453 Accuracy: 0.542800\n",
      "Epoch 29, CIFAR-10 Batch 3:  Loss:     0.8441 Accuracy: 0.537200\n",
      "Epoch 29, CIFAR-10 Batch 4:  Loss:     0.7637 Accuracy: 0.544000\n",
      "Epoch 29, CIFAR-10 Batch 5:  Loss:     0.6849 Accuracy: 0.555600\n",
      "Epoch 30, CIFAR-10 Batch 1:  Loss:     0.8658 Accuracy: 0.552600\n",
      "Epoch 30, CIFAR-10 Batch 2:  Loss:     0.8108 Accuracy: 0.532800\n",
      "Epoch 30, CIFAR-10 Batch 3:  Loss:     0.8459 Accuracy: 0.543800\n",
      "Epoch 30, CIFAR-10 Batch 4:  Loss:     0.7628 Accuracy: 0.537200\n",
      "Epoch 30, CIFAR-10 Batch 5:  Loss:     0.6491 Accuracy: 0.557000\n",
      "Epoch 31, CIFAR-10 Batch 1:  Loss:     0.8102 Accuracy: 0.551800\n",
      "Epoch 31, CIFAR-10 Batch 2:  Loss:     0.7671 Accuracy: 0.525800\n",
      "Epoch 31, CIFAR-10 Batch 3:  Loss:     0.8602 Accuracy: 0.543600\n",
      "Epoch 31, CIFAR-10 Batch 4:  Loss:     0.7604 Accuracy: 0.541800\n",
      "Epoch 31, CIFAR-10 Batch 5:  Loss:     0.5904 Accuracy: 0.550200\n",
      "Epoch 32, CIFAR-10 Batch 1:  Loss:     0.8093 Accuracy: 0.546600\n",
      "Epoch 32, CIFAR-10 Batch 2:  Loss:     0.7805 Accuracy: 0.524200\n",
      "Epoch 32, CIFAR-10 Batch 3:  Loss:     0.8180 Accuracy: 0.546000\n",
      "Epoch 32, CIFAR-10 Batch 4:  Loss:     0.6815 Accuracy: 0.541800\n",
      "Epoch 32, CIFAR-10 Batch 5:  Loss:     0.6430 Accuracy: 0.550800\n",
      "Epoch 33, CIFAR-10 Batch 1:  Loss:     0.7983 Accuracy: 0.532800\n",
      "Epoch 33, CIFAR-10 Batch 2:  Loss:     0.7106 Accuracy: 0.534400\n",
      "Epoch 33, CIFAR-10 Batch 3:  Loss:     0.8620 Accuracy: 0.545000\n",
      "Epoch 33, CIFAR-10 Batch 4:  Loss:     0.6459 Accuracy: 0.552000\n",
      "Epoch 33, CIFAR-10 Batch 5:  Loss:     0.6270 Accuracy: 0.560200\n",
      "Epoch 34, CIFAR-10 Batch 1:  Loss:     0.7827 Accuracy: 0.537400\n",
      "Epoch 34, CIFAR-10 Batch 2:  Loss:     0.6830 Accuracy: 0.547600\n",
      "Epoch 34, CIFAR-10 Batch 3:  Loss:     0.8236 Accuracy: 0.551600\n",
      "Epoch 34, CIFAR-10 Batch 4:  Loss:     0.6526 Accuracy: 0.541800\n",
      "Epoch 34, CIFAR-10 Batch 5:  Loss:     0.5669 Accuracy: 0.552000\n",
      "Epoch 35, CIFAR-10 Batch 1:  Loss:     0.7529 Accuracy: 0.540400\n",
      "Epoch 35, CIFAR-10 Batch 2:  Loss:     0.6784 Accuracy: 0.547600\n",
      "Epoch 35, CIFAR-10 Batch 3:  Loss:     0.7910 Accuracy: 0.556800\n",
      "Epoch 35, CIFAR-10 Batch 4:  Loss:     0.6391 Accuracy: 0.556800\n",
      "Epoch 35, CIFAR-10 Batch 5:  Loss:     0.5384 Accuracy: 0.549400\n",
      "Epoch 36, CIFAR-10 Batch 1:  Loss:     0.6819 Accuracy: 0.546600\n",
      "Epoch 36, CIFAR-10 Batch 2:  Loss:     0.6367 Accuracy: 0.546800\n",
      "Epoch 36, CIFAR-10 Batch 3:  Loss:     0.7783 Accuracy: 0.556600\n",
      "Epoch 36, CIFAR-10 Batch 4:  Loss:     0.6225 Accuracy: 0.557000\n",
      "Epoch 36, CIFAR-10 Batch 5:  Loss:     0.5287 Accuracy: 0.551600\n",
      "Epoch 37, CIFAR-10 Batch 1:  Loss:     0.6910 Accuracy: 0.536400\n",
      "Epoch 37, CIFAR-10 Batch 2:  Loss:     0.5993 Accuracy: 0.545600\n",
      "Epoch 37, CIFAR-10 Batch 3:  Loss:     0.7441 Accuracy: 0.551800\n",
      "Epoch 37, CIFAR-10 Batch 4:  Loss:     0.6179 Accuracy: 0.549000\n",
      "Epoch 37, CIFAR-10 Batch 5:  Loss:     0.5215 Accuracy: 0.555000\n",
      "Epoch 38, CIFAR-10 Batch 1:  Loss:     0.6406 Accuracy: 0.550400\n",
      "Epoch 38, CIFAR-10 Batch 2:  Loss:     0.5645 Accuracy: 0.549400\n",
      "Epoch 38, CIFAR-10 Batch 3:  Loss:     0.7856 Accuracy: 0.536000\n",
      "Epoch 38, CIFAR-10 Batch 4:  Loss:     0.5883 Accuracy: 0.552600\n",
      "Epoch 38, CIFAR-10 Batch 5:  Loss:     0.4983 Accuracy: 0.550600\n",
      "Epoch 39, CIFAR-10 Batch 1:  Loss:     0.6302 Accuracy: 0.550400\n",
      "Epoch 39, CIFAR-10 Batch 2:  Loss:     0.5333 Accuracy: 0.538800\n",
      "Epoch 39, CIFAR-10 Batch 3:  Loss:     0.7386 Accuracy: 0.541200\n",
      "Epoch 39, CIFAR-10 Batch 4:  Loss:     0.5773 Accuracy: 0.551200\n",
      "Epoch 39, CIFAR-10 Batch 5:  Loss:     0.4990 Accuracy: 0.562400\n",
      "Epoch 40, CIFAR-10 Batch 1:  Loss:     0.5731 Accuracy: 0.556800\n",
      "Epoch 40, CIFAR-10 Batch 2:  Loss:     0.5544 Accuracy: 0.538800\n",
      "Epoch 40, CIFAR-10 Batch 3:  Loss:     0.7071 Accuracy: 0.561800\n",
      "Epoch 40, CIFAR-10 Batch 4:  Loss:     0.5525 Accuracy: 0.562200\n",
      "Epoch 40, CIFAR-10 Batch 5:  Loss:     0.4383 Accuracy: 0.557000\n",
      "Epoch 41, CIFAR-10 Batch 1:  Loss:     0.5699 Accuracy: 0.551400\n",
      "Epoch 41, CIFAR-10 Batch 2:  Loss:     0.5199 Accuracy: 0.551200\n",
      "Epoch 41, CIFAR-10 Batch 3:  Loss:     0.7140 Accuracy: 0.545200\n",
      "Epoch 41, CIFAR-10 Batch 4:  Loss:     0.5288 Accuracy: 0.553200\n",
      "Epoch 41, CIFAR-10 Batch 5:  Loss:     0.4582 Accuracy: 0.547400\n",
      "Epoch 42, CIFAR-10 Batch 1:  Loss:     0.5738 Accuracy: 0.556200\n",
      "Epoch 42, CIFAR-10 Batch 2:  Loss:     0.4867 Accuracy: 0.555800\n",
      "Epoch 42, CIFAR-10 Batch 3:  Loss:     0.6925 Accuracy: 0.562000\n",
      "Epoch 42, CIFAR-10 Batch 4:  Loss:     0.5022 Accuracy: 0.554600\n",
      "Epoch 42, CIFAR-10 Batch 5:  Loss:     0.4088 Accuracy: 0.557800\n",
      "Epoch 43, CIFAR-10 Batch 1:  Loss:     0.5802 Accuracy: 0.544800\n",
      "Epoch 43, CIFAR-10 Batch 2:  Loss:     0.5182 Accuracy: 0.554400\n",
      "Epoch 43, CIFAR-10 Batch 3:  Loss:     0.6305 Accuracy: 0.556400\n",
      "Epoch 43, CIFAR-10 Batch 4:  Loss:     0.4803 Accuracy: 0.555400\n",
      "Epoch 43, CIFAR-10 Batch 5:  Loss:     0.4075 Accuracy: 0.552800\n",
      "Epoch 44, CIFAR-10 Batch 1:  Loss:     0.5428 Accuracy: 0.551800\n",
      "Epoch 44, CIFAR-10 Batch 2:  Loss:     0.5263 Accuracy: 0.552200\n",
      "Epoch 44, CIFAR-10 Batch 3:  Loss:     0.6212 Accuracy: 0.556400\n",
      "Epoch 44, CIFAR-10 Batch 4:  Loss:     0.4812 Accuracy: 0.552200\n",
      "Epoch 44, CIFAR-10 Batch 5:  Loss:     0.3719 Accuracy: 0.553800\n",
      "Epoch 45, CIFAR-10 Batch 1:  Loss:     0.5420 Accuracy: 0.546200\n",
      "Epoch 45, CIFAR-10 Batch 2:  Loss:     0.4861 Accuracy: 0.552000\n",
      "Epoch 45, CIFAR-10 Batch 3:  Loss:     0.5839 Accuracy: 0.556400\n",
      "Epoch 45, CIFAR-10 Batch 4:  Loss:     0.4436 Accuracy: 0.551000\n",
      "Epoch 45, CIFAR-10 Batch 5:  Loss:     0.3623 Accuracy: 0.547600\n",
      "Epoch 46, CIFAR-10 Batch 1:  Loss:     0.4685 Accuracy: 0.566000\n",
      "Epoch 46, CIFAR-10 Batch 2:  Loss:     0.4361 Accuracy: 0.556800\n",
      "Epoch 46, CIFAR-10 Batch 3:  Loss:     0.5981 Accuracy: 0.554800\n",
      "Epoch 46, CIFAR-10 Batch 4:  Loss:     0.4566 Accuracy: 0.556600\n",
      "Epoch 46, CIFAR-10 Batch 5:  Loss:     0.3361 Accuracy: 0.554800\n",
      "Epoch 47, CIFAR-10 Batch 1:  Loss:     0.4236 Accuracy: 0.559600\n",
      "Epoch 47, CIFAR-10 Batch 2:  Loss:     0.4319 Accuracy: 0.552800\n",
      "Epoch 47, CIFAR-10 Batch 3:  Loss:     0.5357 Accuracy: 0.549800\n",
      "Epoch 47, CIFAR-10 Batch 4:  Loss:     0.4211 Accuracy: 0.557000\n",
      "Epoch 47, CIFAR-10 Batch 5:  Loss:     0.3480 Accuracy: 0.556800\n",
      "Epoch 48, CIFAR-10 Batch 1:  Loss:     0.4624 Accuracy: 0.561000\n",
      "Epoch 48, CIFAR-10 Batch 2:  Loss:     0.4316 Accuracy: 0.548200\n",
      "Epoch 48, CIFAR-10 Batch 3:  Loss:     0.5112 Accuracy: 0.550600\n",
      "Epoch 48, CIFAR-10 Batch 4:  Loss:     0.3962 Accuracy: 0.554800\n",
      "Epoch 48, CIFAR-10 Batch 5:  Loss:     0.3141 Accuracy: 0.548800\n",
      "Epoch 49, CIFAR-10 Batch 1:  Loss:     0.3777 Accuracy: 0.558000\n",
      "Epoch 49, CIFAR-10 Batch 2:  Loss:     0.4402 Accuracy: 0.559200\n",
      "Epoch 49, CIFAR-10 Batch 3:  Loss:     0.5013 Accuracy: 0.554200\n",
      "Epoch 49, CIFAR-10 Batch 4:  Loss:     0.3944 Accuracy: 0.561200\n",
      "Epoch 49, CIFAR-10 Batch 5:  Loss:     0.3345 Accuracy: 0.549800\n",
      "Epoch 50, CIFAR-10 Batch 1:  Loss:     0.3788 Accuracy: 0.554000\n",
      "Epoch 50, CIFAR-10 Batch 2:  Loss:     0.3904 Accuracy: 0.548400\n",
      "Epoch 50, CIFAR-10 Batch 3:  Loss:     0.4691 Accuracy: 0.549200\n",
      "Epoch 50, CIFAR-10 Batch 4:  Loss:     0.3669 Accuracy: 0.553000\n",
      "Epoch 50, CIFAR-10 Batch 5:  Loss:     0.2946 Accuracy: 0.555000\n",
      "Epoch 51, CIFAR-10 Batch 1:  Loss:     0.3415 Accuracy: 0.556400\n",
      "Epoch 51, CIFAR-10 Batch 2:  Loss:     0.3357 Accuracy: 0.546600\n",
      "Epoch 51, CIFAR-10 Batch 3:  Loss:     0.4643 Accuracy: 0.548800\n",
      "Epoch 51, CIFAR-10 Batch 4:  Loss:     0.3762 Accuracy: 0.554400\n",
      "Epoch 51, CIFAR-10 Batch 5:  Loss:     0.3069 Accuracy: 0.553000\n",
      "Epoch 52, CIFAR-10 Batch 1:  Loss:     0.3601 Accuracy: 0.556200\n",
      "Epoch 52, CIFAR-10 Batch 2:  Loss:     0.2947 Accuracy: 0.542200\n",
      "Epoch 52, CIFAR-10 Batch 3:  Loss:     0.4164 Accuracy: 0.550600\n",
      "Epoch 52, CIFAR-10 Batch 4:  Loss:     0.3535 Accuracy: 0.554800\n",
      "Epoch 52, CIFAR-10 Batch 5:  Loss:     0.2809 Accuracy: 0.558600\n",
      "Epoch 53, CIFAR-10 Batch 1:  Loss:     0.3675 Accuracy: 0.556800\n",
      "Epoch 53, CIFAR-10 Batch 2:  Loss:     0.2867 Accuracy: 0.547600\n",
      "Epoch 53, CIFAR-10 Batch 3:  Loss:     0.4518 Accuracy: 0.550800\n",
      "Epoch 53, CIFAR-10 Batch 4:  Loss:     0.3587 Accuracy: 0.553400\n",
      "Epoch 53, CIFAR-10 Batch 5:  Loss:     0.2831 Accuracy: 0.559600\n",
      "Epoch 54, CIFAR-10 Batch 1:  Loss:     0.3313 Accuracy: 0.557800\n",
      "Epoch 54, CIFAR-10 Batch 2:  Loss:     0.2956 Accuracy: 0.548000\n",
      "Epoch 54, CIFAR-10 Batch 3:  Loss:     0.4314 Accuracy: 0.544800\n",
      "Epoch 54, CIFAR-10 Batch 4:  Loss:     0.3183 Accuracy: 0.551400\n",
      "Epoch 54, CIFAR-10 Batch 5:  Loss:     0.2552 Accuracy: 0.556600\n",
      "Epoch 55, CIFAR-10 Batch 1:  Loss:     0.3535 Accuracy: 0.556600\n",
      "Epoch 55, CIFAR-10 Batch 2:  Loss:     0.2801 Accuracy: 0.556800\n",
      "Epoch 55, CIFAR-10 Batch 3:  Loss:     0.4164 Accuracy: 0.539600\n",
      "Epoch 55, CIFAR-10 Batch 4:  Loss:     0.2911 Accuracy: 0.547000\n",
      "Epoch 55, CIFAR-10 Batch 5:  Loss:     0.2473 Accuracy: 0.554800\n",
      "Epoch 56, CIFAR-10 Batch 1:  Loss:     0.3803 Accuracy: 0.555400\n",
      "Epoch 56, CIFAR-10 Batch 2:  Loss:     0.2917 Accuracy: 0.543200\n",
      "Epoch 56, CIFAR-10 Batch 3:  Loss:     0.4126 Accuracy: 0.536800\n",
      "Epoch 56, CIFAR-10 Batch 4:  Loss:     0.3595 Accuracy: 0.531000\n",
      "Epoch 56, CIFAR-10 Batch 5:  Loss:     0.2928 Accuracy: 0.551200\n",
      "Epoch 57, CIFAR-10 Batch 1:  Loss:     0.3774 Accuracy: 0.552800\n",
      "Epoch 57, CIFAR-10 Batch 2:  Loss:     0.2895 Accuracy: 0.552400\n",
      "Epoch 57, CIFAR-10 Batch 3:  Loss:     0.3938 Accuracy: 0.540600\n",
      "Epoch 57, CIFAR-10 Batch 4:  Loss:     0.3287 Accuracy: 0.534200\n",
      "Epoch 57, CIFAR-10 Batch 5:  Loss:     0.2531 Accuracy: 0.556400\n",
      "Epoch 58, CIFAR-10 Batch 1:  Loss:     0.3706 Accuracy: 0.554400\n",
      "Epoch 58, CIFAR-10 Batch 2:  Loss:     0.2494 Accuracy: 0.556200\n",
      "Epoch 58, CIFAR-10 Batch 3:  Loss:     0.3963 Accuracy: 0.531200\n",
      "Epoch 58, CIFAR-10 Batch 4:  Loss:     0.3256 Accuracy: 0.523800\n",
      "Epoch 58, CIFAR-10 Batch 5:  Loss:     0.2949 Accuracy: 0.556000\n",
      "Epoch 59, CIFAR-10 Batch 1:  Loss:     0.3743 Accuracy: 0.555000\n",
      "Epoch 59, CIFAR-10 Batch 2:  Loss:     0.2317 Accuracy: 0.546600\n",
      "Epoch 59, CIFAR-10 Batch 3:  Loss:     0.4080 Accuracy: 0.530200\n",
      "Epoch 59, CIFAR-10 Batch 4:  Loss:     0.2932 Accuracy: 0.538000\n",
      "Epoch 59, CIFAR-10 Batch 5:  Loss:     0.2475 Accuracy: 0.558200\n",
      "Epoch 60, CIFAR-10 Batch 1:  Loss:     0.3142 Accuracy: 0.553000\n",
      "Epoch 60, CIFAR-10 Batch 2:  Loss:     0.2701 Accuracy: 0.550600\n",
      "Epoch 60, CIFAR-10 Batch 3:  Loss:     0.3723 Accuracy: 0.533000\n",
      "Epoch 60, CIFAR-10 Batch 4:  Loss:     0.2693 Accuracy: 0.554800\n",
      "Epoch 60, CIFAR-10 Batch 5:  Loss:     0.2391 Accuracy: 0.554400\n",
      "Epoch 61, CIFAR-10 Batch 1:  Loss:     0.2763 Accuracy: 0.558000\n",
      "Epoch 61, CIFAR-10 Batch 2:  Loss:     0.2258 Accuracy: 0.554000\n",
      "Epoch 61, CIFAR-10 Batch 3:  Loss:     0.3466 Accuracy: 0.540600\n",
      "Epoch 61, CIFAR-10 Batch 4:  Loss:     0.2797 Accuracy: 0.549000\n",
      "Epoch 61, CIFAR-10 Batch 5:  Loss:     0.2217 Accuracy: 0.555600\n",
      "Epoch 62, CIFAR-10 Batch 1:  Loss:     0.2765 Accuracy: 0.554800\n",
      "Epoch 62, CIFAR-10 Batch 2:  Loss:     0.2044 Accuracy: 0.551200\n",
      "Epoch 62, CIFAR-10 Batch 3:  Loss:     0.3522 Accuracy: 0.540600\n",
      "Epoch 62, CIFAR-10 Batch 4:  Loss:     0.3010 Accuracy: 0.541200\n",
      "Epoch 62, CIFAR-10 Batch 5:  Loss:     0.2028 Accuracy: 0.556800\n",
      "Epoch 63, CIFAR-10 Batch 1:  Loss:     0.2970 Accuracy: 0.556000\n",
      "Epoch 63, CIFAR-10 Batch 2:  Loss:     0.2177 Accuracy: 0.552600\n",
      "Epoch 63, CIFAR-10 Batch 3:  Loss:     0.3007 Accuracy: 0.544400\n",
      "Epoch 63, CIFAR-10 Batch 4:  Loss:     0.2905 Accuracy: 0.550200\n",
      "Epoch 63, CIFAR-10 Batch 5:  Loss:     0.2218 Accuracy: 0.556000\n",
      "Epoch 64, CIFAR-10 Batch 1:  Loss:     0.2557 Accuracy: 0.548600\n",
      "Epoch 64, CIFAR-10 Batch 2:  Loss:     0.2098 Accuracy: 0.554800\n",
      "Epoch 64, CIFAR-10 Batch 3:  Loss:     0.2988 Accuracy: 0.538000\n",
      "Epoch 64, CIFAR-10 Batch 4:  Loss:     0.2521 Accuracy: 0.551000\n",
      "Epoch 64, CIFAR-10 Batch 5:  Loss:     0.1961 Accuracy: 0.560600\n"
     ]
    }
   ],
   "source": [
    "\"\"\"\n",
    "DON'T MODIFY ANYTHING IN THIS CELL\n",
    "\"\"\"\n",
    "save_model_path = './image_classification'\n",
    "\n",
    "print('Training...')\n",
    "with tf.Session() as sess:\n",
    "    # Initializing the variables\n",
    "    sess.run(tf.global_variables_initializer())\n",
    "    \n",
    "    # Training cycle\n",
    "    for epoch in range(epochs):\n",
    "        # Loop over all batches\n",
    "        n_batches = 5\n",
    "        for batch_i in range(1, n_batches + 1):\n",
    "            for batch_features, batch_labels in helper.load_preprocess_training_batch(batch_i, batch_size):\n",
    "                train_neural_network(sess, optimizer, keep_probability, batch_features, batch_labels)\n",
    "            print('Epoch {:>2}, CIFAR-10 Batch {}:  '.format(epoch + 1, batch_i), end='')\n",
    "            print_stats(sess, batch_features, batch_labels, cost, accuracy)\n",
    "            \n",
    "    # Save Model\n",
    "    saver = tf.train.Saver()\n",
    "    save_path = saver.save(sess, save_model_path)"
   ]
  },
  {
   "cell_type": "markdown",
   "metadata": {
    "deletable": true,
    "editable": true
   },
   "source": [
    "# Checkpoint\n",
    "The model has been saved to disk.\n",
    "## Test Model\n",
    "Test your model against the test dataset.  This will be your final accuracy. You should have an accuracy greater than 50%. If you don't, keep tweaking the model architecture and parameters."
   ]
  },
  {
   "cell_type": "code",
   "execution_count": 21,
   "metadata": {
    "collapsed": false,
    "deletable": true,
    "editable": true
   },
   "outputs": [
    {
     "name": "stdout",
     "output_type": "stream",
     "text": [
      "Testing Accuracy: 0.560818829113924\n",
      "\n"
     ]
    },
    {
     "data": {
      "image/png": "[encoded data removed]",
      "text/plain": [
       "<matplotlib.figure.Figure at 0x7f2afb26c128>"
      ]
     },
     "metadata": {
      "image/png": {
       "height": 319,
       "width": 355
      }
     },
     "output_type": "display_data"
    }
   ],
   "source": [
    "\"\"\"\n",
    "DON'T MODIFY ANYTHING IN THIS CELL\n",
    "\"\"\"\n",
    "%matplotlib inline\n",
    "%config InlineBackend.figure_format = 'retina'\n",
    "\n",
    "import tensorflow as tf\n",
    "import pickle\n",
    "import helper\n",
    "import random\n",
    "\n",
    "# Set batch size if not already set\n",
    "try:\n",
    "    if batch_size:\n",
    "        pass\n",
    "except NameError:\n",
    "    batch_size = 64\n",
    "\n",
    "save_model_path = './image_classification'\n",
    "n_samples = 4\n",
    "top_n_predictions = 3\n",
    "\n",
    "def test_model():\n",
    "    \"\"\"\n",
    "    Test the saved model against the test dataset\n",
    "    \"\"\"\n",
    "\n",
    "    test_features, test_labels = pickle.load(open('preprocess_training.p', mode='rb'))\n",
    "    loaded_graph = tf.Graph()\n",
    "\n",
    "    with tf.Session(graph=loaded_graph) as sess:\n",
    "        # Load model\n",
    "        loader = tf.train.import_meta_graph(save_model_path + '.meta')\n",
    "        loader.restore(sess, save_model_path)\n",
    "\n",
    "        # Get Tensors from loaded model\n",
    "        loaded_x = loaded_graph.get_tensor_by_name('x:0')\n",
    "        loaded_y = loaded_graph.get_tensor_by_name('y:0')\n",
    "        loaded_keep_prob = loaded_graph.get_tensor_by_name('keep_prob:0')\n",
    "        loaded_logits = loaded_graph.get_tensor_by_name('logits:0')\n",
    "        loaded_acc = loaded_graph.get_tensor_by_name('accuracy:0')\n",
    "        \n",
    "        # Get accuracy in batches for memory limitations\n",
    "        test_batch_acc_total = 0\n",
    "        test_batch_count = 0\n",
    "        \n",
    "        for train_feature_batch, train_label_batch in helper.batch_features_labels(test_features, test_labels, batch_size):\n",
    "            test_batch_acc_total += sess.run(\n",
    "                loaded_acc,\n",
    "                feed_dict={loaded_x: train_feature_batch, loaded_y: train_label_batch, loaded_keep_prob: 1.0})\n",
    "            test_batch_count += 1\n",
    "\n",
    "        print('Testing Accuracy: {}\\n'.format(test_batch_acc_total/test_batch_count))\n",
    "\n",
    "        # Print Random Samples\n",
    "        random_test_features, random_test_labels = tuple(zip(*random.sample(list(zip(test_features, test_labels)), n_samples)))\n",
    "        random_test_predictions = sess.run(\n",
    "            tf.nn.top_k(tf.nn.softmax(loaded_logits), top_n_predictions),\n",
    "            feed_dict={loaded_x: random_test_features, loaded_y: random_test_labels, loaded_keep_prob: 1.0})\n",
    "        helper.display_image_predictions(random_test_features, random_test_labels, random_test_predictions)\n",
    "\n",
    "\n",
    "test_model()"
   ]
  },
  {
   "cell_type": "markdown",
   "metadata": {
    "deletable": true,
    "editable": true
   },
   "source": [
    "## Why 50-70% Accuracy?\n",
    "You might be wondering why you can't get an accuracy any higher. First things first, 50% isn't bad for a simple CNN.  Pure guessing would get you 10% accuracy. However, you might notice people are getting scores [well above 70%](http://rodrigob.github.io/are_we_there_yet/build/classification_datasets_results.html#43494641522d3130).  That's because we haven't taught you all there is to know about neural networks. We still need to cover a few more techniques.\n",
    "## Submitting This Project\n",
    "When submitting this project, make sure to run all the cells before saving the notebook.  Save the notebook file as \"dlnd_image_classification.ipynb\" and save it as a HTML file under \"File\" -> \"Download as\".  Include the \"helper.py\" and \"problem_unittests.py\" files in your submission."
   ]
  }
 ],
 "metadata": {
  "kernelspec": {
   "display_name": "Python 3",
   "language": "python",
   "name": "python3"
  },
  "language_info": {
   "codemirror_mode": {
    "name": "ipython",
    "version": 3
   },
   "file_extension": ".py",
   "mimetype": "text/x-python",
   "name": "python",
   "nbconvert_exporter": "python",
   "pygments_lexer": "ipython3",
   "version": "3.5.2"
  },
  "widgets": {
   "state": {},
   "version": "1.1.2"
  }
 },
 "nbformat": 4,
 "nbformat_minor": 0
}
